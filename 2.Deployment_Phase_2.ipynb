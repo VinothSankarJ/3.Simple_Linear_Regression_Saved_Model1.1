{
 "cells": [
  {
   "cell_type": "code",
   "execution_count": 1,
   "metadata": {},
   "outputs": [],
   "source": [
    "import pickle"
   ]
  },
  {
   "cell_type": "code",
   "execution_count": 4,
   "metadata": {},
   "outputs": [
    {
     "name": "stdout",
     "output_type": "stream",
     "text": [
      "Predicted Salary: 100712.10559602463\n"
     ]
    }
   ],
   "source": [
    "\n",
    "# Load the saved model using pickle\n",
    "with open('salary_prediction_model.pkl', 'rb') as file:\n",
    "    loaded_model = pickle.load(file)\n",
    "\n",
    "# Now you can use the loaded_model for making predictions\n",
    "# For example, let's say you have a new data point with 8 years of experience\n",
    "new_data_point = [[8]]\n",
    "predicted_salary = loaded_model.predict(new_data_point)\n",
    "\n",
    "print(\"Predicted Salary:\", predicted_salary[0])"
   ]
  },
  {
   "cell_type": "code",
   "execution_count": null,
   "metadata": {},
   "outputs": [],
   "source": []
  }
 ],
 "metadata": {
  "kernelspec": {
   "display_name": "Python 3",
   "language": "python",
   "name": "python3"
  },
  "language_info": {
   "codemirror_mode": {
    "name": "ipython",
    "version": 3
   },
   "file_extension": ".py",
   "mimetype": "text/x-python",
   "name": "python",
   "nbconvert_exporter": "python",
   "pygments_lexer": "ipython3",
   "version": "3.7.4"
  }
 },
 "nbformat": 4,
 "nbformat_minor": 2
}
